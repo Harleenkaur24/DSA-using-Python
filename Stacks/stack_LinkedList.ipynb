{
 "cells": [
  {
   "cell_type": "code",
   "execution_count": 1,
   "id": "3068a7c2",
   "metadata": {},
   "outputs": [],
   "source": [
    "class node:\n",
    "    def __init__(self,value):\n",
    "        self.data=value\n",
    "        self.next=None"
   ]
  },
  {
   "cell_type": "code",
   "execution_count": 95,
   "id": "6900485c",
   "metadata": {},
   "outputs": [],
   "source": [
    "class stack:\n",
    "\n",
    "    def __init__(self):\n",
    "        self.top=None\n",
    "\n",
    "    def isempty(self):\n",
    "        return self.top==None\n",
    "    \n",
    "    def push(self,value):\n",
    "        new_node=node(value)\n",
    "        temp=self.top\n",
    "        new_node.next=temp\n",
    "        self.top=new_node\n",
    "\n",
    "    def traversal(self):\n",
    "        temp=self.top\n",
    "        while(temp!=None):\n",
    "            print(temp.data)\n",
    "            temp=temp.next\n",
    "    \n",
    "    def peek(self):\n",
    "        if(self.isempty()):\n",
    "            return \"Stack empty\"\n",
    "        else:\n",
    "            return self.top.data\n",
    "    \n",
    "    def pop(self):\n",
    "        if(self.isempty()):\n",
    "            return \"stack empty\"\n",
    "        else:\n",
    "            data=self.top.data\n",
    "            self.top=self.top.next\n",
    "        return data\n",
    "\n",
    "    def size(self):\n",
    "        if (self.isempty()):\n",
    "            return \"stack empty\"\n",
    "        \n",
    "        temp=self.top\n",
    "        cnt=0\n",
    "        while(temp!=None):\n",
    "            cnt=cnt+1\n",
    "            temp=temp.next\n",
    "\n",
    "        return cnt\n",
    "    \n",
    "        \n"
   ]
  },
  {
   "cell_type": "code",
   "execution_count": 83,
   "id": "1f846252",
   "metadata": {},
   "outputs": [],
   "source": [
    "s=stack()"
   ]
  },
  {
   "cell_type": "code",
   "execution_count": 84,
   "id": "6d7124f6",
   "metadata": {},
   "outputs": [
    {
     "data": {
      "text/plain": [
       "True"
      ]
     },
     "execution_count": 84,
     "metadata": {},
     "output_type": "execute_result"
    }
   ],
   "source": [
    "s.isempty()"
   ]
  },
  {
   "cell_type": "code",
   "execution_count": 85,
   "id": "3dbee44d",
   "metadata": {},
   "outputs": [],
   "source": [
    "s.push(3)\n",
    "s.push(4)\n",
    "s.push(5)"
   ]
  },
  {
   "cell_type": "code",
   "execution_count": 88,
   "id": "62e5dc17",
   "metadata": {},
   "outputs": [
    {
     "name": "stdout",
     "output_type": "stream",
     "text": [
      "<__main__.node object at 0x000001E5200226D0>\n"
     ]
    }
   ],
   "source": [
    "print(s.top)"
   ]
  },
  {
   "cell_type": "code",
   "execution_count": 54,
   "id": "2a374d8b",
   "metadata": {},
   "outputs": [
    {
     "name": "stdout",
     "output_type": "stream",
     "text": [
      "5\n",
      "4\n",
      "3\n"
     ]
    }
   ],
   "source": [
    "s.traversal()"
   ]
  },
  {
   "cell_type": "code",
   "execution_count": 56,
   "id": "73592157",
   "metadata": {},
   "outputs": [
    {
     "data": {
      "text/plain": [
       "5"
      ]
     },
     "execution_count": 56,
     "metadata": {},
     "output_type": "execute_result"
    }
   ],
   "source": [
    "s.peek()"
   ]
  },
  {
   "cell_type": "code",
   "execution_count": 57,
   "id": "dee9f2bf",
   "metadata": {},
   "outputs": [],
   "source": [
    "s.pop()"
   ]
  },
  {
   "cell_type": "code",
   "execution_count": 58,
   "id": "94d65eeb",
   "metadata": {},
   "outputs": [
    {
     "data": {
      "text/plain": [
       "2"
      ]
     },
     "execution_count": 58,
     "metadata": {},
     "output_type": "execute_result"
    }
   ],
   "source": [
    "s.size()"
   ]
  },
  {
   "cell_type": "code",
   "execution_count": 74,
   "id": "ed482cdd",
   "metadata": {},
   "outputs": [],
   "source": [
    "def reverse_Stack(text):\n",
    "    s=stack()\n",
    "    for i in text:\n",
    "        s.push(i)\n",
    "\n",
    "    result=\" \"\n",
    "    while(not s.isempty()):\n",
    "        result= result + s.pop()\n",
    "\n",
    "    print(result)"
   ]
  },
  {
   "cell_type": "code",
   "execution_count": 76,
   "id": "9e080ca4",
   "metadata": {},
   "outputs": [
    {
     "name": "stdout",
     "output_type": "stream",
     "text": [
      " neelraH\n"
     ]
    }
   ],
   "source": [
    "reverse_Stack(\"Harleen\")"
   ]
  },
  {
   "cell_type": "code",
   "execution_count": 79,
   "id": "37db5f23",
   "metadata": {},
   "outputs": [],
   "source": [
    "def undo_redo(text,pattern):\n",
    "    s=stack()\n",
    "    for i in text:\n",
    "        s.push(i)\n",
    "    \n",
    "    m=stack()\n",
    "    for i in pattern:\n",
    "        if i=='u':\n",
    "            data=s.pop()\n",
    "            m.push(data)\n",
    "        else:\n",
    "            data =m.pop()\n",
    "            s.push(data)\n",
    "    \n",
    "    result=\"\"\n",
    "    while(not s.isempty()):\n",
    "        result= s.pop() + result \n",
    "\n",
    "    print(result)\n",
    "\n"
   ]
  },
  {
   "cell_type": "code",
   "execution_count": 81,
   "id": "f96c928f",
   "metadata": {},
   "outputs": [
    {
     "name": "stdout",
     "output_type": "stream",
     "text": [
      "Harleen\n"
     ]
    }
   ],
   "source": [
    "undo_redo(\"Harleen\",\"ururuurr\")"
   ]
  },
  {
   "cell_type": "code",
   "execution_count": 149,
   "id": "54501a57",
   "metadata": {},
   "outputs": [],
   "source": [
    "def balanced_parenthesis(pattern):\n",
    "    s=stack()\n",
    "    \n",
    "    for i in pattern:\n",
    "        if i == \"[\" or i==\"(\" or i==\"{\":\n",
    "            s.push(i)       \n",
    "\n",
    "        else:\n",
    "        \n",
    "            top=s.peek()\n",
    "\n",
    "            if (top=='[' and i==']') or \\\n",
    "               (top =='(' and i==')') or \\\n",
    "               (top=='{' and i=='}') :\n",
    "                s.pop()\n",
    "            else:\n",
    "                return 'Mismatch'\n",
    "            \n",
    "\n",
    "\n",
    "\n",
    "    if s.isempty():\n",
    "        return \"Balanced\"\n",
    "    else:\n",
    "        return \"Mismatch: Stack Not Empty\""
   ]
  },
  {
   "cell_type": "code",
   "execution_count": 150,
   "id": "951865ef",
   "metadata": {},
   "outputs": [
    {
     "data": {
      "text/plain": [
       "'Balanced'"
      ]
     },
     "execution_count": 150,
     "metadata": {},
     "output_type": "execute_result"
    }
   ],
   "source": [
    "balanced_parenthesis(\"{([])}\")\n"
   ]
  },
  {
   "cell_type": "markdown",
   "id": "006a4104",
   "metadata": {},
   "source": [
    "#celebrity problem"
   ]
  },
  {
   "cell_type": "code",
   "execution_count": 145,
   "id": "28c4daea",
   "metadata": {},
   "outputs": [],
   "source": [
    "L=[\n",
    "    [0,0,1,1],#0\n",
    "    [0,0,1,1], #1\n",
    "    [1,0,0,1], #2\n",
    "    [0,0,0,0] #3\n",
    "]"
   ]
  },
  {
   "cell_type": "code",
   "execution_count": null,
   "id": "ce91d6e9",
   "metadata": {},
   "outputs": [],
   "source": [
    "def find_the_celeb(L):\n",
    "    s=stack()\n",
    "    for i in range(len(L)):\n",
    "        s.push(i)\n",
    "\n",
    "    while s.size() >=2:\n",
    "        i=s.pop()\n",
    "        j=s.pop()\n",
    "\n",
    "        if L[i][j]==0: #i does not know j\n",
    "            #j is not a celeb\n",
    "            s.push(i)\n",
    "\n",
    "        else:\n",
    "            #i is not a celeb\n",
    "            s.push(j)\n",
    "\n",
    "    celeb =s.pop() #when only 1 item left\n",
    "\n",
    "\n",
    "   #to confirm , check again\n",
    "    for i in range(len(L)):\n",
    "        if i!=celeb:\n",
    "            if L[i][celeb]!=1 or L[celeb][i]!=0:\n",
    "                print(\"no celeb\")\n",
    "                return\n",
    "    print(\"celeb is\",celeb)\n"
   ]
  },
  {
   "cell_type": "code",
   "execution_count": 147,
   "id": "f63e602c",
   "metadata": {},
   "outputs": [
    {
     "name": "stdout",
     "output_type": "stream",
     "text": [
      "3\n"
     ]
    }
   ],
   "source": [
    "find_the_celeb(L)"
   ]
  }
 ],
 "metadata": {
  "kernelspec": {
   "display_name": "Python 3",
   "language": "python",
   "name": "python3"
  },
  "language_info": {
   "codemirror_mode": {
    "name": "ipython",
    "version": 3
   },
   "file_extension": ".py",
   "mimetype": "text/x-python",
   "name": "python",
   "nbconvert_exporter": "python",
   "pygments_lexer": "ipython3",
   "version": "3.11.9"
  }
 },
 "nbformat": 4,
 "nbformat_minor": 5
}
