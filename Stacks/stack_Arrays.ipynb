{
 "cells": [
  {
   "cell_type": "code",
   "execution_count": 1,
   "id": "273c3864",
   "metadata": {},
   "outputs": [],
   "source": [
    "L=[1,2,3,4]\n"
   ]
  },
  {
   "cell_type": "code",
   "execution_count": 2,
   "id": "98e31045",
   "metadata": {},
   "outputs": [],
   "source": [
    "L.append(7)"
   ]
  },
  {
   "cell_type": "code",
   "execution_count": 3,
   "id": "1fea4fb6",
   "metadata": {},
   "outputs": [
    {
     "data": {
      "text/plain": [
       "7"
      ]
     },
     "execution_count": 3,
     "metadata": {},
     "output_type": "execute_result"
    }
   ],
   "source": [
    "L.pop()"
   ]
  },
  {
   "cell_type": "code",
   "execution_count": 4,
   "id": "8ad79162",
   "metadata": {},
   "outputs": [
    {
     "data": {
      "text/plain": [
       "[1, 2, 3, 4]"
      ]
     },
     "execution_count": 4,
     "metadata": {},
     "output_type": "execute_result"
    }
   ],
   "source": [
    "L"
   ]
  },
  {
   "cell_type": "code",
   "execution_count": 6,
   "id": "198300dc",
   "metadata": {},
   "outputs": [
    {
     "data": {
      "text/plain": [
       "4"
      ]
     },
     "execution_count": 6,
     "metadata": {},
     "output_type": "execute_result"
    }
   ],
   "source": [
    "L[-1]"
   ]
  },
  {
   "cell_type": "code",
   "execution_count": null,
   "id": "96b6f85e",
   "metadata": {},
   "outputs": [],
   "source": [
    "class stack:\n",
    "    def __init__(self,size):\n",
    "        self.size=size  #we cant change size of stack\n",
    "        self.stack=[None]*self.size  #stack which is an array\n",
    "\n",
    "        self.top=-1  \n",
    "   \n",
    "    def push(self,value): #we cant push more than size\n",
    "\n",
    "        if self.top==self.size -1:\n",
    "            return \"overfow\"\n",
    "        else:\n",
    "            self.top+=1\n",
    "            self.stack[self.top]=value\n",
    "            \n",
    "    def pop(self):\n",
    "        if self.top==-1:\n",
    "            return 'Empty stack'\n",
    "        \n",
    "        else:\n",
    "            data=self.stack[self.top]\n",
    "            self.top =self.top -1\n",
    "            print(data)\n",
    "\n",
    "    def traverse(self):\n",
    "        for i in range(self.top+1):\n",
    "            print(self.stack[i],end=' ')\n",
    "    \n",
    "\n",
    "    def isempty(self):\n",
    "        if self.top==-1:\n",
    "            return True\n",
    "        return False"
   ]
  },
  {
   "cell_type": "code",
   "execution_count": 73,
   "id": "8cfc21fd",
   "metadata": {},
   "outputs": [],
   "source": [
    "s=stack(3)"
   ]
  },
  {
   "cell_type": "code",
   "execution_count": 74,
   "id": "9bc91457",
   "metadata": {},
   "outputs": [
    {
     "data": {
      "text/plain": [
       "[None, None, None]"
      ]
     },
     "execution_count": 74,
     "metadata": {},
     "output_type": "execute_result"
    }
   ],
   "source": [
    "s.stack"
   ]
  },
  {
   "cell_type": "code",
   "execution_count": 69,
   "id": "6627bd92",
   "metadata": {},
   "outputs": [],
   "source": [
    "s.push(3)\n",
    "s.push(5)\n",
    "s.push(6)\n"
   ]
  },
  {
   "cell_type": "code",
   "execution_count": 70,
   "id": "3117ec2b",
   "metadata": {},
   "outputs": [
    {
     "name": "stdout",
     "output_type": "stream",
     "text": [
      "6\n"
     ]
    }
   ],
   "source": [
    "s.pop()"
   ]
  },
  {
   "cell_type": "code",
   "execution_count": 71,
   "id": "1ca17f47",
   "metadata": {},
   "outputs": [
    {
     "name": "stdout",
     "output_type": "stream",
     "text": [
      "3 5 "
     ]
    }
   ],
   "source": [
    "s.traverse()"
   ]
  },
  {
   "cell_type": "code",
   "execution_count": 72,
   "id": "039d92ac",
   "metadata": {},
   "outputs": [],
   "source": [
    "s.push(4)"
   ]
  }
 ],
 "metadata": {
  "kernelspec": {
   "display_name": "Python 3",
   "language": "python",
   "name": "python3"
  },
  "language_info": {
   "codemirror_mode": {
    "name": "ipython",
    "version": 3
   },
   "file_extension": ".py",
   "mimetype": "text/x-python",
   "name": "python",
   "nbconvert_exporter": "python",
   "pygments_lexer": "ipython3",
   "version": "3.11.9"
  }
 },
 "nbformat": 4,
 "nbformat_minor": 5
}
